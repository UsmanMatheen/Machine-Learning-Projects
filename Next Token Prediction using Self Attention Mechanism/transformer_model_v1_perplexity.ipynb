{
  "cells": [
    {
      "cell_type": "code",
      "execution_count": 1,
      "metadata": {
        "colab": {
          "base_uri": "https://localhost:8080/"
        },
        "id": "mCvHxm2u43br",
        "outputId": "446fd64c-94f9-4a89-a862-8d4d04b5b4ff"
      },
      "outputs": [
        {
          "name": "stdout",
          "output_type": "stream",
          "text": [
            "--2024-04-27 12:37:19--  https://raw.githubusercontent.com/karpathy/char-rnn/master/data/tinyshakespeare/input.txt\n",
            "Resolving raw.githubusercontent.com (raw.githubusercontent.com)... 185.199.110.133, 185.199.108.133, 185.199.109.133, ...\n",
            "Connecting to raw.githubusercontent.com (raw.githubusercontent.com)|185.199.110.133|:443... connected.\n",
            "HTTP request sent, awaiting response... 200 OK\n",
            "Length: 1115394 (1.1M) [text/plain]\n",
            "Saving to: ‘input.txt’\n",
            "\n",
            "input.txt           100%[===================>]   1.06M  --.-KB/s    in 0.05s   \n",
            "\n",
            "2024-04-27 12:37:19 (20.3 MB/s) - ‘input.txt’ saved [1115394/1115394]\n",
            "\n"
          ]
        }
      ],
      "source": [
        "# downloading the tiny sh\"akespeare dataset\n",
        "!wget https://raw.githubusercontent.com/karpathy/char-rnn/master/data/tinyshakespeare/input.txt\n"
      ]
    },
    {
      "cell_type": "code",
      "execution_count": 2,
      "metadata": {
        "id": "XPeD3pKU43bu"
      },
      "outputs": [],
      "source": [
        "# read it in to inspect it\n",
        "with open('input.txt', 'r', encoding='utf-8') as f:\n",
        "    text = f.read()"
      ]
    },
    {
      "cell_type": "markdown",
      "metadata": {
        "id": "vAPEAy62Sdf8"
      },
      "source": []
    },
    {
      "cell_type": "code",
      "execution_count": 3,
      "metadata": {
        "colab": {
          "base_uri": "https://localhost:8080/"
        },
        "id": "UDwkt3fV43bu",
        "outputId": "f40e5357-8b2c-4288-b27a-ea49eb64763e"
      },
      "outputs": [
        {
          "name": "stdout",
          "output_type": "stream",
          "text": [
            "length of dataset in characters:  1115394\n"
          ]
        }
      ],
      "source": [
        "print(\"length of dataset in characters: \", len(text))"
      ]
    },
    {
      "cell_type": "code",
      "execution_count": 4,
      "metadata": {
        "colab": {
          "base_uri": "https://localhost:8080/"
        },
        "id": "Onhhf_pr43bu",
        "outputId": "468ee7f4-adb7-4d13-e05e-b6069d81a72f"
      },
      "outputs": [
        {
          "name": "stdout",
          "output_type": "stream",
          "text": [
            "First Citizen:\n",
            "Before we proceed any further, hear me speak.\n",
            "\n",
            "All:\n",
            "Speak, speak.\n",
            "\n",
            "First Citizen:\n",
            "You are all resolved rather to die than to famish?\n",
            "\n",
            "All:\n",
            "Resolved. resolved.\n",
            "\n",
            "First Citizen:\n",
            "First, you know Caius Marcius is chief enemy to the people.\n",
            "\n",
            "All:\n",
            "We know't, we know't.\n",
            "\n",
            "First Citizen:\n",
            "Let us kill him, and we'll have corn at our own price.\n",
            "Is't a verdict?\n",
            "\n",
            "All:\n",
            "No more talking on't; let it be done: away, away!\n",
            "\n",
            "Second Citizen:\n",
            "One word, good citizens.\n",
            "\n",
            "First Citizen:\n",
            "We are accounted poor citizens, the patricians good.\n",
            "What authority surfeits on would relieve us: if they\n",
            "would yield us but the superfluity, while it were\n",
            "wholesome, we might guess they relieved us humanely;\n",
            "but they think we are too dear: the leanness that\n",
            "afflicts us, the object of our misery, is as an\n",
            "inventory to particularise their abundance; our\n",
            "sufferance is a gain to them Let us revenge this with\n",
            "our pikes, ere we become rakes: for the gods know I\n",
            "speak this in hunger for bread, not in thirst for revenge.\n",
            "\n",
            "\n"
          ]
        }
      ],
      "source": [
        "# let's look at the first 1000 characters\n",
        "print(text[:1000])"
      ]
    },
    {
      "cell_type": "code",
      "execution_count": 5,
      "metadata": {
        "id": "nsahy3aX43bu"
      },
      "outputs": [],
      "source": [
        "import torch\n",
        "from torch import nn\n",
        "from torch.nn import functional as F"
      ]
    },
    {
      "cell_type": "code",
      "execution_count": 6,
      "metadata": {
        "id": "BgXnUteW43bv"
      },
      "outputs": [],
      "source": [
        "batch_size = 64 # how many independent sequences will we process in parallel?\n",
        "block_size = 256 # what is the maximum context length for predictions?\n",
        "max_iters = 2500 # changed from 5K to 10K\n",
        "eval_interval = 500\n",
        "learning_rate = 0.0001\n",
        "device = 'cuda' if torch.cuda.is_available() else 'cpu'\n",
        "eval_iters = 200\n",
        "n_embd = 384 #changed from 384 to 512\n",
        "n_head = 6 #changed from 6 to 12\n",
        "n_layer = 6 #changed to 12 and then 12 to 6 Due to less compute power"
      ]
    },
    {
      "cell_type": "code",
      "execution_count": 12,
      "metadata": {
        "id": "EMQS0OSm43bv"
      },
      "outputs": [],
      "source": [
        "import torch\n",
        "\n",
        "# here are all the unique characters that occur in this text\n",
        "chars = sorted(list(set(text)))\n",
        "vocab_size = len(chars)\n",
        "# create a mapping from characters to integers\n",
        "stoi = { ch:i for i,ch in enumerate(chars) }\n",
        "itos = { i:ch for i,ch in enumerate(chars) }\n",
        "encode = lambda s: [stoi[c] for c in s] # encoder: take a string, output a list of integers\n",
        "decode = lambda l: ''.join([itos[i] for i in l]) # decoder: take a list of integers, output a string\n",
        "\n",
        "# Train and test splits\n",
        "data = torch.tensor(encode(text), dtype=torch.long)\n",
        "n = int(0.9*len(data)) # first 90% will be train, rest val\n",
        "train_data = data[:n]\n",
        "val_data = data[n:]\n",
        "\n",
        "# data loading\n",
        "def get_batch(split):\n",
        "    # generate a small batch of data of inputs x and targets y\n",
        "    data = train_data if split == 'train' else val_data\n",
        "    ix = torch.randint(len(data) - block_size, (batch_size,))\n",
        "    x = torch.stack([data[i:i+block_size] for i in ix])\n",
        "    y = torch.stack([data[i+1:i+block_size+1] for i in ix])\n",
        "    x, y = x.to(device), y.to(device)\n",
        "    return x, y\n",
        "\n"
      ]
    },
    {
      "cell_type": "markdown",
      "metadata": {
        "id": "vnarWPZe6Kbi"
      },
      "source": [
        "**AttentionHead**"
      ]
    },
    {
      "cell_type": "code",
      "execution_count": 13,
      "metadata": {
        "id": "u8H0pTdX43bv"
      },
      "outputs": [],
      "source": [
        "class Head(nn.Module):\n",
        "\n",
        "    def __init__(self):\n",
        "        super().__init__()\n",
        "\n",
        "        head_size = n_embd // n_head\n",
        "        self.query  = nn.Linear(n_embd,head_size)\n",
        "        self.key  = nn.Linear(n_embd,head_size)\n",
        "        self.value  = nn.Linear(n_embd,head_size)\n",
        "        self.tril = torch.tril(torch.ones(block_size,block_size))\n",
        "\n",
        "    def forward(self,x):\n",
        "\n",
        "        B,T,C = x.shape\n",
        "\n",
        "        q = self.query(x)\n",
        "        k = self.key(x)\n",
        "\n",
        "        weights = q @ k.transpose(-2,-1)  * k.shape[-1]**-0.5\n",
        "        weights = weights.masked_fill(self.tril[:T,:T].to('cuda:0') == 0, float(\"-inf\")).to('cuda:0') #Removed .to('cuda:0')\n",
        "        #weights = weights.masked_fill(self.tril[:T,:T]==0, float(\"-inf\")).to('cuda:0')\n",
        "        weights = F.softmax(weights,dim=-1)\n",
        "\n",
        "        v = self.value(x)\n",
        "\n",
        "        out = weights @ v\n",
        "\n",
        "        return out\n",
        "\n"
      ]
    },
    {
      "cell_type": "markdown",
      "metadata": {
        "id": "ZQ2K25D76Q5_"
      },
      "source": [
        "**MultiHeadAttention**"
      ]
    },
    {
      "cell_type": "code",
      "execution_count": 14,
      "metadata": {
        "id": "TFz0YCIO43bw"
      },
      "outputs": [],
      "source": [
        "class MultiHeadAttention(nn.Module):\n",
        "\n",
        "    def __init__(self,n_embd,n_head):\n",
        "        super().__init__()\n",
        "\n",
        "        head_size = n_embd // n_head\n",
        "        self.heads = nn.ModuleList([Head() for _ in range(n_head)])\n",
        "        self.proj = nn.Linear(head_size*n_head,n_embd)\n",
        "\n",
        "\n",
        "    def forward(self,x):\n",
        "        out = torch.cat([h(x) for h in self.heads], dim=-1)\n",
        "        out = self.proj(out)\n",
        "        return out\n"
      ]
    },
    {
      "cell_type": "markdown",
      "metadata": {
        "id": "H7bTSVwC6TpC"
      },
      "source": [
        "**FeedForward Neural Network**"
      ]
    },
    {
      "cell_type": "code",
      "execution_count": 15,
      "metadata": {
        "id": "GIykLCgQ43bw"
      },
      "outputs": [],
      "source": [
        "class FeedFoward(nn.Module):\n",
        "\n",
        "\n",
        "    def __init__(self,n_embd):\n",
        "        super().__init__()\n",
        "        self.net = nn.Sequential(\n",
        "            nn.Linear(n_embd, 4 * n_embd),\n",
        "            nn.ReLU(),\n",
        "            nn.Linear(4 * n_embd, n_embd),\n",
        "        )\n",
        "\n",
        "    def forward(self, x):\n",
        "        return self.net(x)"
      ]
    },
    {
      "cell_type": "code",
      "execution_count": 16,
      "metadata": {
        "id": "v3iXpkIv43bw"
      },
      "outputs": [],
      "source": [
        "class DecoderBlock(nn.Module):\n",
        "\n",
        "    def __init__(self,n_embd,n_head):\n",
        "        super().__init__()\n",
        "\n",
        "        self.mh_att = MultiHeadAttention(n_embd,n_head)\n",
        "        self.nn = FeedFoward(n_embd)\n",
        "        self.ln1 = nn.LayerNorm(n_embd)\n",
        "        self.ln2 = nn.LayerNorm(n_embd)\n",
        "\n",
        "\n",
        "    def forward(self,x):\n",
        "        # x = self.mh_att(self.ln1(x))\n",
        "        # x = self.nn(self.ln2(x))\n",
        "        #Added the concept of Resnet architecture (as mentioned in the Atteniton all u need paper), which helps the model to remember the context of the previous tokens, so it could better generatlize the next token prediction.\n",
        "\n",
        "        x_norm1= self.ln1(x)\n",
        "        att = self.mh_att(x_norm1)\n",
        "        x_norm2 = self.ln2(att)\n",
        "        x = x + x_norm2\n",
        "        x = self.nn(self.ln2(x))\n",
        "\n",
        "\n",
        "        return x"
      ]
    },
    {
      "cell_type": "markdown",
      "metadata": {
        "id": "303JBi0T6iyS"
      },
      "source": [
        "**Language Model - GPT**"
      ]
    },
    {
      "cell_type": "code",
      "execution_count": 17,
      "metadata": {
        "id": "PYpWh3iU43bw"
      },
      "outputs": [],
      "source": [
        "class LanguageModel(nn.Module):\n",
        "\n",
        "    def __init__(self):\n",
        "        super().__init__()\n",
        "        self.token_emb = nn.Embedding(vocab_size,n_embd)\n",
        "        self.pos_emb = nn.Embedding(block_size,n_embd)\n",
        "        self.blocks = nn.Sequential(*[DecoderBlock(n_embd, n_head=n_head) for _ in range(n_layer)])\n",
        "        self.ln_f = nn.LayerNorm(n_embd)\n",
        "        self.pred_head = nn.Linear(n_embd,vocab_size)\n",
        "\n",
        "    def forward(self,idx,targets=None):\n",
        "\n",
        "        token = self.token_emb(idx)\n",
        "        pos = self.pos_emb(idx)\n",
        "\n",
        "        x = token + pos\n",
        "\n",
        "        x = self.blocks(x) # (B,T,C)\n",
        "        x = self.ln_f(x) # (B,T,C)\n",
        "        logits = self.pred_head(x) # (B,T,vocab_size)\n",
        "\n",
        "        if targets is None:\n",
        "            loss = None\n",
        "        else:\n",
        "            B, T, C = logits.shape\n",
        "            logits = logits.view(B*T, C)\n",
        "            targets = targets.view(B*T)\n",
        "            loss = F.cross_entropy(logits, targets)\n",
        "\n",
        "        return logits, loss\n",
        "\n",
        "    def generate(self, idx, max_new_tokens):\n",
        "        # idx is (B, T) array of indices in the current context\n",
        "        for _ in range(max_new_tokens):\n",
        "            # crop idx to the last block_size tokens\n",
        "            idx_cond = idx[:, -block_size:]\n",
        "            # get the predictions\n",
        "            logits, loss = self(idx_cond)\n",
        "            # focus only on the last time step\n",
        "            logits = logits[:, -1, :] # becomes (B, C)\n",
        "            # apply softmax to get probabilities\n",
        "            probs = F.softmax(logits, dim=-1) # (B, C)\n",
        "            # sample from the distribution\n",
        "            idx_next = torch.multinomial(probs, num_samples=1) # (B, 1)\n",
        "            # append sampled index to the running sequence\n",
        "            idx = torch.cat((idx, idx_next), dim=1) # (B, T+1)\n",
        "        return idx"
      ]
    },
    {
      "cell_type": "code",
      "execution_count": 19,
      "metadata": {
        "colab": {
          "base_uri": "https://localhost:8080/"
        },
        "id": "WSY3Rvlv43bw",
        "outputId": "4f478d53-802b-4577-e66b-71609aa2afed"
      },
      "outputs": [
        {
          "name": "stdout",
          "output_type": "stream",
          "text": [
            "10.795841 M parameters\n",
            "step 0: train loss 4.1313, val loss 4.1500, train perplexity 62.2568, val perplexity 63.43391418457031:.4f\n",
            "step 500: train loss 3.3165, val loss 3.3538, train perplexity 27.5631, val perplexity 28.610515594482422:.4f\n",
            "step 1000: train loss 3.3112, val loss 3.3511, train perplexity 27.4188, val perplexity 28.532913208007812:.4f\n",
            "step 1500: train loss 3.3088, val loss 3.3531, train perplexity 27.3512, val perplexity 28.591333389282227:.4f\n",
            "step 2000: train loss 3.3130, val loss 3.3489, train perplexity 27.4675, val perplexity 28.470735549926758:.4f\n",
            "step 2499: train loss 3.3114, val loss 3.3452, train perplexity 27.4245, val perplexity 28.36541175842285:.4f\n",
            "\n",
            "h3oAswpBwey t a uhv , as ihffyom e'\n",
            "enHS V  vt? hoerdHr\n",
            "bnoey nsiU,y,Lee oaoeSsaA eoyevgeawec ltslnrr\n",
            "rtfg oos h- l\n",
            "pyudNi\n",
            "eoIsi,ethn olNtrde ds wlhnae:sll\n",
            " e oU,ythwr in\n",
            " nskdr.enfs,\n",
            "oo ytatarl \n",
            " tofihyrttii eioIdMRRefilstDtealso  cn m  sostron,\n",
            "gitfshWtRcaenenpwr ongulormser h ds ,sfnaeoe:e aecT\n",
            "ws mutH sd!aer e; eioO sa sriorMLe oiaedayuKmo iRaala nw f .y ne roa ly hun.aa-holtedhsryb eo,'h,\n",
            "rsQe MwWc  FmF; da lptb ou  H tnli\n",
            "  sims hoamor uilhn\n",
            "inrEhKtttetIwdDter\n",
            "Ouegt\n",
            "NNeltt hc ilruEI;i\n",
            "dtim\n"
          ]
        }
      ],
      "source": [
        "model = LanguageModel()\n",
        "#model.load_state_dict(torch.load(\"model.pth\"))\n",
        "model = model.to(device)\n",
        "# print the number of parameters in the model\n",
        "print(sum(p.numel() for p in model.parameters())/1e6, 'M parameters')\n",
        "\n",
        "# create a PyTorch optimizer\n",
        "#optimizer = torch.optim.SGD(model.parameters(), lr=learning_rate) #trying different optimizers\n",
        "optimizer = torch.optim.AdamW(model.parameters(), lr=learning_rate, momentum= 0.9) #changed the optimizer fromm AdamW to SGD and added momentum\n",
        "\n",
        "for iter in range(max_iters):\n",
        "\n",
        "    # every once in a while evaluate the loss on train and val sets\n",
        "    if iter % eval_interval == 0 or iter == max_iters - 1:\n",
        "\n",
        "        out = {}\n",
        "        perplexity = {}\n",
        "        model.eval()\n",
        "        for split in ['train', 'val']:\n",
        "            losses = torch.zeros(eval_iters)\n",
        "            for k in range(eval_iters):\n",
        "                X, Y = get_batch(split)\n",
        "                logits, loss = model(X, Y)\n",
        "                losses[k] = loss.item()\n",
        "            out[split] = losses.mean()\n",
        "            perplexity[split] = torch.exp(losses.mean())\n",
        "        model.train()\n",
        "        print(f\"step {iter}: train loss {out['train']:.4f}, val loss {out['val']:.4f}, train perplexity {perplexity['train']:.4f}, val perplexity {perplexity['val']}:.4f\")\n",
        "\n",
        "    # sample a batch of data\n",
        "    xb, yb = get_batch('train')\n",
        "\n",
        "    # evaluate the loss\n",
        "    logits, loss = model(xb, yb)\n",
        "    optimizer.zero_grad(set_to_none=True)\n",
        "    loss.backward()\n",
        "    optimizer.step()\n",
        "    torch.save(model.state_dict(), \"model_ver_1.pth\")\n",
        "\n",
        "# generate from the model\n",
        "context = torch.zeros((1, 1), dtype=torch.long, device=device)\n",
        "print(decode(model.generate(context, max_new_tokens=500)[0].tolist()))"
      ]
    }
  ],
  "metadata": {
    "accelerator": "GPU",
    "colab": {
      "gpuType": "T4",
      "provenance": []
    },
    "kernelspec": {
      "display_name": "Python 3",
      "name": "python3"
    },
    "language_info": {
      "codemirror_mode": {
        "name": "ipython",
        "version": 3
      },
      "file_extension": ".py",
      "mimetype": "text/x-python",
      "name": "python",
      "nbconvert_exporter": "python",
      "pygments_lexer": "ipython3",
      "version": "3.12.2"
    }
  },
  "nbformat": 4,
  "nbformat_minor": 0
}
